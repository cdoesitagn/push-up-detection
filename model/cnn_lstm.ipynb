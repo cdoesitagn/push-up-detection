{
 "cells": [
  {
   "cell_type": "code",
   "execution_count": 13,
   "metadata": {},
   "outputs": [
    {
     "name": "stdout",
     "output_type": "stream",
     "text": [
      "X shape: (100, 30, 132)\n",
      "y shape: (100,)\n"
     ]
    }
   ],
   "source": [
    "import numpy as np\n",
    "\n",
    "def reshape_and_label_data(correct_file, wrong_file):\n",
    "  \"\"\"\n",
    "  Reshapes data from .npy files into 3D arrays and assigns labels.\n",
    "\n",
    "  Args:\n",
    "    correct_file: Path to the .npy file containing correctly labeled data.\n",
    "    wrong_file: Path to the .npy file containing incorrectly labeled data.\n",
    "\n",
    "  Returns:\n",
    "    A tuple containing:\n",
    "      - X: A NumPy array with shape (samples, 30, 132) containing the reshaped data.\n",
    "      - y: A NumPy array with shape (samples,) containing the labels (0 for incorrect, 1 for correct).\n",
    "  \"\"\"\n",
    "  correct_data = np.load(correct_file)\n",
    "  wrong_data = np.load(wrong_file)\n",
    "\n",
    "  # Reshape the data\n",
    "  correct_data_reshaped = correct_data.reshape(-1, 30, 132)\n",
    "  wrong_data_reshaped = wrong_data.reshape(-1, 30, 132)\n",
    "\n",
    "  # Combine data and create labels\n",
    "  X = np.concatenate((correct_data_reshaped, wrong_data_reshaped), axis=0)\n",
    "  y = np.concatenate((np.ones(correct_data_reshaped.shape[0]), np.zeros(wrong_data_reshaped.shape[0])), axis=0)\n",
    "  \n",
    "  return X, y\n",
    "\n",
    "# Example usage:\n",
    "correct_file = r'C:\\Users\\ADMIN88\\OneDrive\\Desktop\\push-up-detection\\output_data\\processed_key\\correct_keypoints\\correct_keypoints_normalized_keypoints.npy'\n",
    "wrong_file = r'C:\\Users\\ADMIN88\\OneDrive\\Desktop\\push-up-detection\\output_data\\processed_key\\wrong_keypoints\\wrong_keypoints_normalized_keypoints.npy' #replace with your wrong file path\n",
    "X, y = reshape_and_label_data(correct_file, wrong_file)\n",
    "\n",
    "print(\"X shape:\", X.shape)\n",
    "print(\"y shape:\", y.shape)"
   ]
  },
  {
   "cell_type": "code",
   "execution_count": 14,
   "metadata": {},
   "outputs": [
    {
     "name": "stdout",
     "output_type": "stream",
     "text": [
      "X_train shape: (80, 30, 132)\n",
      "y_train shape: (80,)\n",
      "X_test shape: (20, 30, 132)\n",
      "y_test shape: (20,)\n"
     ]
    }
   ],
   "source": [
    "from sklearn.model_selection import train_test_split\n",
    "\n",
    "# Assuming X and y are defined as in the previous code\n",
    "X_train, X_test, y_train, y_test = train_test_split(X, y, test_size=0.2, random_state=42) # 80% train, 20% test\n",
    "\n",
    "print(\"X_train shape:\", X_train.shape)\n",
    "print(\"y_train shape:\", y_train.shape)\n",
    "print(\"X_test shape:\", X_test.shape)\n",
    "print(\"y_test shape:\", y_test.shape)"
   ]
  },
  {
   "cell_type": "code",
   "execution_count": null,
   "metadata": {},
   "outputs": [
    {
     "name": "stdout",
     "output_type": "stream",
     "text": [
      "Epoch 1/16\n",
      "\u001b[1m3/3\u001b[0m \u001b[32m━━━━━━━━━━━━━━━━━━━━\u001b[0m\u001b[37m\u001b[0m \u001b[1m6s\u001b[0m 319ms/step - accuracy: 0.5070 - loss: 0.6898 - val_accuracy: 0.6500 - val_loss: 0.6917\n",
      "Epoch 2/16\n",
      "\u001b[1m3/3\u001b[0m \u001b[32m━━━━━━━━━━━━━━━━━━━━\u001b[0m\u001b[37m\u001b[0m \u001b[1m0s\u001b[0m 33ms/step - accuracy: 0.6820 - loss: 0.6745 - val_accuracy: 0.5500 - val_loss: 0.6949\n",
      "Epoch 3/16\n",
      "\u001b[1m3/3\u001b[0m \u001b[32m━━━━━━━━━━━━━━━━━━━━\u001b[0m\u001b[37m\u001b[0m \u001b[1m0s\u001b[0m 34ms/step - accuracy: 0.7242 - loss: 0.6515 - val_accuracy: 0.6000 - val_loss: 0.6790\n",
      "Epoch 4/16\n",
      "\u001b[1m3/3\u001b[0m \u001b[32m━━━━━━━━━━━━━━━━━━━━\u001b[0m\u001b[37m\u001b[0m \u001b[1m0s\u001b[0m 33ms/step - accuracy: 0.7812 - loss: 0.6339 - val_accuracy: 0.6000 - val_loss: 0.6651\n",
      "Epoch 5/16\n",
      "\u001b[1m3/3\u001b[0m \u001b[32m━━━━━━━━━━━━━━━━━━━━\u001b[0m\u001b[37m\u001b[0m \u001b[1m0s\u001b[0m 36ms/step - accuracy: 0.7578 - loss: 0.6231 - val_accuracy: 0.6500 - val_loss: 0.6596\n",
      "Epoch 6/16\n",
      "\u001b[1m3/3\u001b[0m \u001b[32m━━━━━━━━━━━━━━━━━━━━\u001b[0m\u001b[37m\u001b[0m \u001b[1m0s\u001b[0m 32ms/step - accuracy: 0.7508 - loss: 0.6109 - val_accuracy: 0.6000 - val_loss: 0.6592\n",
      "Epoch 7/16\n",
      "\u001b[1m3/3\u001b[0m \u001b[32m━━━━━━━━━━━━━━━━━━━━\u001b[0m\u001b[37m\u001b[0m \u001b[1m0s\u001b[0m 29ms/step - accuracy: 0.8086 - loss: 0.5802 - val_accuracy: 0.6500 - val_loss: 0.6421\n",
      "Epoch 8/16\n",
      "\u001b[1m3/3\u001b[0m \u001b[32m━━━━━━━━━━━━━━━━━━━━\u001b[0m\u001b[37m\u001b[0m \u001b[1m0s\u001b[0m 27ms/step - accuracy: 0.7789 - loss: 0.5591 - val_accuracy: 0.6500 - val_loss: 0.6364\n",
      "Epoch 9/16\n",
      "\u001b[1m3/3\u001b[0m \u001b[32m━━━━━━━━━━━━━━━━━━━━\u001b[0m\u001b[37m\u001b[0m \u001b[1m0s\u001b[0m 34ms/step - accuracy: 0.8023 - loss: 0.5373 - val_accuracy: 0.6000 - val_loss: 0.6638\n",
      "Epoch 10/16\n",
      "\u001b[1m3/3\u001b[0m \u001b[32m━━━━━━━━━━━━━━━━━━━━\u001b[0m\u001b[37m\u001b[0m \u001b[1m0s\u001b[0m 37ms/step - accuracy: 0.8211 - loss: 0.5111 - val_accuracy: 0.7000 - val_loss: 0.6341\n",
      "Epoch 11/16\n",
      "\u001b[1m3/3\u001b[0m \u001b[32m━━━━━━━━━━━━━━━━━━━━\u001b[0m\u001b[37m\u001b[0m \u001b[1m0s\u001b[0m 31ms/step - accuracy: 0.8148 - loss: 0.4873 - val_accuracy: 0.7000 - val_loss: 0.6483\n",
      "Epoch 12/16\n",
      "\u001b[1m3/3\u001b[0m \u001b[32m━━━━━━━━━━━━━━━━━━━━\u001b[0m\u001b[37m\u001b[0m \u001b[1m0s\u001b[0m 35ms/step - accuracy: 0.8164 - loss: 0.4866 - val_accuracy: 0.6500 - val_loss: 0.6736\n",
      "Epoch 13/16\n",
      "\u001b[1m3/3\u001b[0m \u001b[32m━━━━━━━━━━━━━━━━━━━━\u001b[0m\u001b[37m\u001b[0m \u001b[1m0s\u001b[0m 36ms/step - accuracy: 0.7852 - loss: 0.5341 - val_accuracy: 0.7000 - val_loss: 0.6497\n",
      "Epoch 14/16\n",
      "\u001b[1m3/3\u001b[0m \u001b[32m━━━━━━━━━━━━━━━━━━━━\u001b[0m\u001b[37m\u001b[0m \u001b[1m0s\u001b[0m 40ms/step - accuracy: 0.8383 - loss: 0.4399 - val_accuracy: 0.7000 - val_loss: 0.6621\n",
      "Epoch 15/16\n",
      "\u001b[1m3/3\u001b[0m \u001b[32m━━━━━━━━━━━━━━━━━━━━\u001b[0m\u001b[37m\u001b[0m \u001b[1m0s\u001b[0m 36ms/step - accuracy: 0.8320 - loss: 0.4674 - val_accuracy: 0.7000 - val_loss: 0.6822\n",
      "Epoch 16/16\n",
      "\u001b[1m3/3\u001b[0m \u001b[32m━━━━━━━━━━━━━━━━━━━━\u001b[0m\u001b[37m\u001b[0m \u001b[1m0s\u001b[0m 33ms/step - accuracy: 0.8438 - loss: 0.4472 - val_accuracy: 0.7000 - val_loss: 0.6588\n"
     ]
    },
    {
     "name": "stderr",
     "output_type": "stream",
     "text": [
      "WARNING:absl:You are saving your model as an HDF5 file via `model.save()` or `keras.saving.save_model(model)`. This file format is considered legacy. We recommend using instead the native Keras format, e.g. `model.save('my_model.keras')` or `keras.saving.save_model(model, 'my_model.keras')`. \n"
     ]
    }
   ],
   "source": [
    "import numpy as np\n",
    "from sklearn.model_selection import train_test_split\n",
    "from tensorflow.keras.models import Sequential\n",
    "from tensorflow.keras.layers import Conv1D, MaxPooling1D, LSTM, Dense, Dropout, BatchNormalization\n",
    "\n",
    "\n",
    "# Assuming X_train, X_test, y_train, y_test are defined as in the previous code\n",
    "\n",
    "# Define the CNN-LSTM model\n",
    "model  = Sequential()\n",
    "model.add(LSTM(units = 15, return_sequences = True, input_shape = (X.shape[1], X.shape[2])))\n",
    "model.add(Dropout(0.2))\n",
    "model.add(LSTM(units = 15, return_sequences = True))\n",
    "model.add(Dropout(0.2))\n",
    "model.add(LSTM(units = 15, return_sequences = True))\n",
    "model.add(Dropout(0.2))\n",
    "model.add(LSTM(units = 15))\n",
    "model.add(Dropout(0.2))\n",
    "model.add(Dense(units = 1, activation=\"sigmoid\"))\n",
    "model.compile(optimizer=\"adam\", metrics = ['accuracy'], loss = \"binary_crossentropy\")\n",
    "\n",
    "model.fit(X_train, y_train, epochs=16, batch_size=12,validation_data=(X_test, y_test))\n",
    "model.save(\"model.h5\")"
   ]
  }
 ],
 "metadata": {
  "kernelspec": {
   "display_name": "Python 3",
   "language": "python",
   "name": "python3"
  },
  "language_info": {
   "codemirror_mode": {
    "name": "ipython",
    "version": 3
   },
   "file_extension": ".py",
   "mimetype": "text/x-python",
   "name": "python",
   "nbconvert_exporter": "python",
   "pygments_lexer": "ipython3",
   "version": "3.11.9"
  }
 },
 "nbformat": 4,
 "nbformat_minor": 2
}
