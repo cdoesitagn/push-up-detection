{
 "cells": [
  {
   "cell_type": "code",
   "execution_count": 1,
   "metadata": {},
   "outputs": [
    {
     "name": "stdout",
     "output_type": "stream",
     "text": [
      "X shape: (100, 30, 132)\n",
      "y shape: (100,)\n"
     ]
    }
   ],
   "source": [
    "import numpy as np\n",
    "\n",
    "def reshape_and_label_data(correct_file, wrong_file):\n",
    "  \"\"\"\n",
    "  Reshapes data from .npy files into 3D arrays and assigns labels.\n",
    "\n",
    "  Args:\n",
    "    correct_file: Path to the .npy file containing correctly labeled data.\n",
    "    wrong_file: Path to the .npy file containing incorrectly labeled data.\n",
    "\n",
    "  Returns:\n",
    "    A tuple containing:\n",
    "      - X: A NumPy array with shape (samples, 30, 132) containing the reshaped data.\n",
    "      - y: A NumPy array with shape (samples,) containing the labels (0 for incorrect, 1 for correct).\n",
    "  \"\"\"\n",
    "  correct_data = np.load(correct_file)\n",
    "  wrong_data = np.load(wrong_file)\n",
    "\n",
    "  # Reshape the data\n",
    "  correct_data_reshaped = correct_data.reshape(-1, 30, 132)\n",
    "  wrong_data_reshaped = wrong_data.reshape(-1, 30, 132)\n",
    "\n",
    "  # Combine data and create labels\n",
    "  X = np.concatenate((correct_data_reshaped, wrong_data_reshaped), axis=0)\n",
    "  y = np.concatenate((np.ones(correct_data_reshaped.shape[0]), np.zeros(wrong_data_reshaped.shape[0])), axis=0)\n",
    "  \n",
    "  return X, y\n",
    "\n",
    "# Example usage:\n",
    "correct_file = r'C:\\Users\\ADMIN88\\OneDrive\\Desktop\\push-up-detection\\output_data\\processed_key\\correct_keypoints\\correct_keypoints_normalized_keypoints.npy'\n",
    "wrong_file = r'C:\\Users\\ADMIN88\\OneDrive\\Desktop\\push-up-detection\\output_data\\processed_key\\wrong_keypoints\\wrong_keypoints_normalized_keypoints.npy' #replace with your wrong file path\n",
    "X, y = reshape_and_label_data(correct_file, wrong_file)\n",
    "\n",
    "print(\"X shape:\", X.shape)\n",
    "print(\"y shape:\", y.shape)"
   ]
  },
  {
   "cell_type": "code",
   "execution_count": 2,
   "metadata": {},
   "outputs": [
    {
     "name": "stdout",
     "output_type": "stream",
     "text": [
      "X_train shape: (80, 30, 132)\n",
      "y_train shape: (80,)\n",
      "X_test shape: (20, 30, 132)\n",
      "y_test shape: (20,)\n"
     ]
    }
   ],
   "source": [
    "from sklearn.model_selection import train_test_split\n",
    "\n",
    "# Assuming X and y are defined as in the previous code\n",
    "X_train, X_test, y_train, y_test = train_test_split(X, y, test_size=0.2, random_state=42) # 80% train, 20% test\n",
    "\n",
    "print(\"X_train shape:\", X_train.shape)\n",
    "print(\"y_train shape:\", y_train.shape)\n",
    "print(\"X_test shape:\", X_test.shape)\n",
    "print(\"y_test shape:\", y_test.shape)"
   ]
  },
  {
   "cell_type": "code",
   "execution_count": 3,
   "metadata": {},
   "outputs": [
    {
     "name": "stderr",
     "output_type": "stream",
     "text": [
      "C:\\Users\\ADMIN88\\AppData\\Local\\Packages\\PythonSoftwareFoundation.Python.3.11_qbz5n2kfra8p0\\LocalCache\\local-packages\\Python311\\site-packages\\keras\\src\\layers\\rnn\\rnn.py:204: UserWarning: Do not pass an `input_shape`/`input_dim` argument to a layer. When using Sequential models, prefer using an `Input(shape)` object as the first layer in the model instead.\n",
      "  super().__init__(**kwargs)\n"
     ]
    },
    {
     "name": "stdout",
     "output_type": "stream",
     "text": [
      "Epoch 1/16\n",
      "\u001b[1m7/7\u001b[0m \u001b[32m━━━━━━━━━━━━━━━━━━━━\u001b[0m\u001b[37m\u001b[0m \u001b[1m6s\u001b[0m 122ms/step - accuracy: 0.6078 - loss: 0.6943 - val_accuracy: 0.4000 - val_loss: 0.7084\n",
      "Epoch 2/16\n",
      "\u001b[1m7/7\u001b[0m \u001b[32m━━━━━━━━━━━━━━━━━━━━\u001b[0m\u001b[37m\u001b[0m \u001b[1m0s\u001b[0m 26ms/step - accuracy: 0.5668 - loss: 0.6891 - val_accuracy: 0.4000 - val_loss: 0.7036\n",
      "Epoch 3/16\n",
      "\u001b[1m7/7\u001b[0m \u001b[32m━━━━━━━━━━━━━━━━━━━━\u001b[0m\u001b[37m\u001b[0m \u001b[1m0s\u001b[0m 26ms/step - accuracy: 0.4967 - loss: 0.6965 - val_accuracy: 0.6000 - val_loss: 0.6873\n",
      "Epoch 4/16\n",
      "\u001b[1m7/7\u001b[0m \u001b[32m━━━━━━━━━━━━━━━━━━━━\u001b[0m\u001b[37m\u001b[0m \u001b[1m0s\u001b[0m 27ms/step - accuracy: 0.6398 - loss: 0.6696 - val_accuracy: 0.6000 - val_loss: 0.6792\n",
      "Epoch 5/16\n",
      "\u001b[1m7/7\u001b[0m \u001b[32m━━━━━━━━━━━━━━━━━━━━\u001b[0m\u001b[37m\u001b[0m \u001b[1m0s\u001b[0m 37ms/step - accuracy: 0.6523 - loss: 0.6565 - val_accuracy: 0.6500 - val_loss: 0.6503\n",
      "Epoch 6/16\n",
      "\u001b[1m7/7\u001b[0m \u001b[32m━━━━━━━━━━━━━━━━━━━━\u001b[0m\u001b[37m\u001b[0m \u001b[1m0s\u001b[0m 33ms/step - accuracy: 0.7214 - loss: 0.6412 - val_accuracy: 0.7000 - val_loss: 0.6340\n",
      "Epoch 7/16\n",
      "\u001b[1m7/7\u001b[0m \u001b[32m━━━━━━━━━━━━━━━━━━━━\u001b[0m\u001b[37m\u001b[0m \u001b[1m0s\u001b[0m 31ms/step - accuracy: 0.7800 - loss: 0.5782 - val_accuracy: 0.7000 - val_loss: 0.6050\n",
      "Epoch 8/16\n",
      "\u001b[1m7/7\u001b[0m \u001b[32m━━━━━━━━━━━━━━━━━━━━\u001b[0m\u001b[37m\u001b[0m \u001b[1m0s\u001b[0m 33ms/step - accuracy: 0.7405 - loss: 0.5660 - val_accuracy: 0.7500 - val_loss: 0.5333\n",
      "Epoch 9/16\n",
      "\u001b[1m7/7\u001b[0m \u001b[32m━━━━━━━━━━━━━━━━━━━━\u001b[0m\u001b[37m\u001b[0m \u001b[1m0s\u001b[0m 32ms/step - accuracy: 0.8026 - loss: 0.4990 - val_accuracy: 0.8000 - val_loss: 0.5155\n",
      "Epoch 10/16\n",
      "\u001b[1m7/7\u001b[0m \u001b[32m━━━━━━━━━━━━━━━━━━━━\u001b[0m\u001b[37m\u001b[0m \u001b[1m0s\u001b[0m 32ms/step - accuracy: 0.8208 - loss: 0.4173 - val_accuracy: 0.7000 - val_loss: 0.5589\n",
      "Epoch 11/16\n",
      "\u001b[1m7/7\u001b[0m \u001b[32m━━━━━━━━━━━━━━━━━━━━\u001b[0m\u001b[37m\u001b[0m \u001b[1m0s\u001b[0m 33ms/step - accuracy: 0.8712 - loss: 0.3658 - val_accuracy: 0.7000 - val_loss: 0.6550\n",
      "Epoch 12/16\n",
      "\u001b[1m7/7\u001b[0m \u001b[32m━━━━━━━━━━━━━━━━━━━━\u001b[0m\u001b[37m\u001b[0m \u001b[1m0s\u001b[0m 35ms/step - accuracy: 0.7917 - loss: 0.5426 - val_accuracy: 0.6500 - val_loss: 0.6844\n",
      "Epoch 13/16\n",
      "\u001b[1m7/7\u001b[0m \u001b[32m━━━━━━━━━━━━━━━━━━━━\u001b[0m\u001b[37m\u001b[0m \u001b[1m0s\u001b[0m 34ms/step - accuracy: 0.8064 - loss: 0.4558 - val_accuracy: 0.6500 - val_loss: 0.6499\n",
      "Epoch 14/16\n",
      "\u001b[1m7/7\u001b[0m \u001b[32m━━━━━━━━━━━━━━━━━━━━\u001b[0m\u001b[37m\u001b[0m \u001b[1m0s\u001b[0m 30ms/step - accuracy: 0.7859 - loss: 0.4612 - val_accuracy: 0.6500 - val_loss: 0.6550\n",
      "Epoch 15/16\n",
      "\u001b[1m7/7\u001b[0m \u001b[32m━━━━━━━━━━━━━━━━━━━━\u001b[0m\u001b[37m\u001b[0m \u001b[1m0s\u001b[0m 30ms/step - accuracy: 0.8514 - loss: 0.4077 - val_accuracy: 0.7000 - val_loss: 0.6066\n",
      "Epoch 16/16\n",
      "\u001b[1m7/7\u001b[0m \u001b[32m━━━━━━━━━━━━━━━━━━━━\u001b[0m\u001b[37m\u001b[0m \u001b[1m0s\u001b[0m 35ms/step - accuracy: 0.8717 - loss: 0.3490 - val_accuracy: 0.7000 - val_loss: 0.5668\n"
     ]
    },
    {
     "name": "stderr",
     "output_type": "stream",
     "text": [
      "WARNING:absl:You are saving your model as an HDF5 file via `model.save()` or `keras.saving.save_model(model)`. This file format is considered legacy. We recommend using instead the native Keras format, e.g. `model.save('my_model.keras')` or `keras.saving.save_model(model, 'my_model.keras')`. \n"
     ]
    },
    {
     "name": "stdout",
     "output_type": "stream",
     "text": [
      "\u001b[1m1/1\u001b[0m \u001b[32m━━━━━━━━━━━━━━━━━━━━\u001b[0m\u001b[37m\u001b[0m \u001b[1m0s\u001b[0m 48ms/step - accuracy: 0.7000 - loss: 0.5668\n",
      "Accuracy on test set: 0.699999988079071\n"
     ]
    }
   ],
   "source": [
    "import numpy as np\n",
    "from sklearn.model_selection import train_test_split\n",
    "from tensorflow.keras.models import Sequential\n",
    "from tensorflow.keras.layers import Conv1D, MaxPooling1D, LSTM, Dense, Dropout, BatchNormalization\n",
    "\n",
    "\n",
    "# Assuming X_train, X_test, y_train, y_test are defined as in the previous code\n",
    "\n",
    "\n",
    "model  = Sequential()\n",
    "model.add(LSTM(units = 15, return_sequences = True, input_shape = (X.shape[1], X.shape[2])))\n",
    "model.add(Dropout(0.2))\n",
    "model.add(LSTM(units = 15, return_sequences = True))\n",
    "model.add(Dropout(0.2))\n",
    "model.add(LSTM(units = 15, return_sequences = True))\n",
    "model.add(Dropout(0.2))\n",
    "model.add(LSTM(units = 15))\n",
    "model.add(Dropout(0.2))\n",
    "model.add(Dense(units = 1, activation=\"sigmoid\"))\n",
    "model.compile(optimizer=\"adam\", metrics = ['accuracy'], loss = \"binary_crossentropy\")\n",
    "\n",
    "model.fit(X_train, y_train, epochs=16, batch_size=12,validation_data=(X_test, y_test))\n",
    "model.save(\"model.h5\")\n",
    "\n",
    "print(\"Accuracy on test set:\", model.evaluate(X_test, y_test)[1])"
   ]
  }
 ],
 "metadata": {
  "kernelspec": {
   "display_name": "Python 3",
   "language": "python",
   "name": "python3"
  },
  "language_info": {
   "codemirror_mode": {
    "name": "ipython",
    "version": 3
   },
   "file_extension": ".py",
   "mimetype": "text/x-python",
   "name": "python",
   "nbconvert_exporter": "python",
   "pygments_lexer": "ipython3",
   "version": "3.11.9"
  }
 },
 "nbformat": 4,
 "nbformat_minor": 2
}
